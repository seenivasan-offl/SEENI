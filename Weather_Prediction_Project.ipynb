{
  "nbformat": 4,
  "nbformat_minor": 0,
  "metadata": {
    "colab": {
      "provenance": [],
      "include_colab_link": true
    },
    "kernelspec": {
      "name": "python3",
      "display_name": "Python 3"
    },
    "language_info": {
      "name": "python"
    }
  },
  "cells": [
    {
      "cell_type": "markdown",
      "metadata": {
        "id": "view-in-github",
        "colab_type": "text"
      },
      "source": [
        "<a href=\"https://colab.research.google.com/github/seenivasan-offl/SEENI/blob/main/Weather_Prediction_Project.ipynb\" target=\"_parent\"><img src=\"https://colab.research.google.com/assets/colab-badge.svg\" alt=\"Open In Colab\"/></a>"
      ]
    },
    {
      "cell_type": "code",
      "source": [
        "import requests\n",
        "\n",
        "api_key = \"07f6f276fcb8caf7495f096cfe7276c0\"\n",
        "city = \"Durban\"\n",
        "\n",
        "# API URL\n",
        "url = f\"http://api.openweathermap.org/data/2.5/weather?q=Durban&appid=07f6f276fcb8caf7495f096cfe7276c0&units=metric\"\n",
        "\n",
        "# Send a GET request\n",
        "response = requests.get(url)\n",
        "\n",
        "# Check if the request was successful\n",
        "if response.status_code == 200:\n",
        "    # Parse the JSON response\n",
        "    weather_data = response.json()\n",
        "\n",
        "    # Extract the desired data\n",
        "    city_name = weather_data['name']\n",
        "    temp = weather_data['main']['temp']\n",
        "    weather_description = weather_data['weather'][0]['description']\n",
        "\n",
        "    # Print the weather information\n",
        "    print(f\"City: {city_name}\")\n",
        "    print(f\"Temperature: {temp}°C\")\n",
        "    print(f\"Weather: {weather_description}\")\n",
        "else:\n",
        "    print(f\"Failed to fetch weather data. Status code: {response.status_code}\")\n",
        "\n"
      ],
      "metadata": {
        "colab": {
          "base_uri": "https://localhost:8080/"
        },
        "id": "zPmHKyeFVKyR",
        "outputId": "f19ec066-3675-4a6c-e576-7c901378a88e"
      },
      "execution_count": 1,
      "outputs": [
        {
          "output_type": "stream",
          "name": "stdout",
          "text": [
            "City: Durban\n",
            "Temperature: 23.66°C\n",
            "Weather: overcast clouds\n"
          ]
        }
      ]
    },
    {
      "cell_type": "markdown",
      "source": [
        "**Use the OpenWeatherMap API to gather weather data for a list of cities.**"
      ],
      "metadata": {
        "id": "RHBb9c8lcIYh"
      }
    },
    {
      "cell_type": "code",
      "source": [
        "import requests\n",
        "import pandas as pd\n",
        "import matplotlib.pyplot as plt\n",
        "import time  # To handle delays between API calls\n",
        "\n",
        "# API key\n",
        "api_key = \"07f6f276fcb8caf7495f096cfe7276c0\"\n",
        "\n",
        "# Expanded list of cities\n",
        "cities = [\"Durban\", \"Cape Town\", \"Johannesburg\", \"Pretoria\", \"Port Elizabeth\",\n",
        "          \"New York\", \"London\", \"Sydney\", \"Mumbai\", \"Tokyo\"]\n",
        "\n",
        "# Initialize a list to store weather data\n",
        "weather_data = []\n",
        "\n",
        "# Fetch data for each city with rate limiting\n",
        "for city in cities:\n",
        "    url = f\"http://api.openweathermap.org/data/2.5/weather?q={city}&appid={api_key}&units=metric\"\n",
        "    try:\n",
        "        response = requests.get(url)\n",
        "        if response.status_code == 200:\n",
        "            data = response.json()\n",
        "            weather_data.append({\n",
        "                \"City\": data[\"name\"],\n",
        "                \"Temperature (°C)\": data[\"main\"][\"temp\"],\n",
        "                \"Humidity (%)\": data[\"main\"][\"humidity\"],\n",
        "                \"Weather\": data[\"weather\"][0][\"description\"]\n",
        "            })\n",
        "        else:\n",
        "            print(f\"Failed to fetch data for {city}. Status code: {response.status_code}\")\n",
        "    except Exception as e:\n",
        "        print(f\"Error fetching data for {city}: {e}\")\n",
        "\n",
        "    # Wait 1 second between requests to avoid hitting the rate limit\n",
        "    time.sleep(1)\n",
        "\n",
        "# Convert to Pandas DataFrame\n",
        "df = pd.DataFrame(weather_data)\n",
        "\n",
        "# Display the data\n",
        "print(\"Weather Data:\")\n",
        "print(df)\n",
        "\n",
        "# Save to a CSV file\n",
        "df.to_csv(\"weather_data.csv\", index=False)\n",
        "\n",
        "# ----------- Data Analysis and Visualization -----------\n",
        "\n",
        "# Plot Temperature Comparison\n",
        "plt.figure(figsize=(12, 6))\n",
        "plt.bar(df[\"City\"], df[\"Temperature (°C)\"], color=\"skyblue\")\n",
        "plt.title(\"Temperature Comparison Across Cities\")\n",
        "plt.xlabel(\"City\")\n",
        "plt.ylabel(\"Temperature (°C)\")\n",
        "plt.xticks(rotation=45)\n",
        "plt.grid(axis=\"y\", linestyle=\"--\", alpha=0.7)\n",
        "plt.tight_layout()\n",
        "plt.show()\n",
        "\n",
        "# Pie Chart: Weather Conditions\n",
        "weather_counts = df[\"Weather\"].value_counts()\n",
        "plt.figure(figsize=(8, 8))\n",
        "plt.pie(weather_counts, labels=weather_counts.index, autopct=\"%1.1f%%\", colors=[\"#ff9999\", \"#66b3ff\", \"#99ff99\", \"#ffcc99\"])\n",
        "plt.title(\"Weather Conditions Distribution\")\n",
        "plt.show()\n"
      ],
      "metadata": {
        "colab": {
          "base_uri": "https://localhost:8080/",
          "height": 1000
        },
        "id": "MIIz6nCocRF_",
        "outputId": "8bfc95e3-551f-41e4-dafb-510dcf1dce30"
      },
      "execution_count": 2,
      "outputs": [
        {
          "output_type": "stream",
          "name": "stdout",
          "text": [
            "Weather Data:\n",
            "             City  Temperature (°C)  Humidity (%)          Weather\n",
            "0          Durban             23.66            84  overcast clouds\n",
            "1       Cape Town             21.04            72        clear sky\n",
            "2    Johannesburg             16.00            98       light rain\n",
            "3        Pretoria             18.09            99       light rain\n",
            "4  Port Elizabeth             20.17            98        clear sky\n",
            "5        New York              1.28            94    moderate rain\n",
            "6          London              2.38            90  overcast clouds\n",
            "7          Sydney             21.61            43        clear sky\n",
            "8          Mumbai             31.99            22            smoke\n",
            "9           Tokyo             15.58            33    broken clouds\n"
          ]
        },
        {
          "output_type": "display_data",
          "data": {
            "text/plain": [
              "<Figure size 1200x600 with 1 Axes>"
            ],
            "image/png": "[encoded data removed]"
          },
          "metadata": {}
        },
        {
          "output_type": "display_data",
          "data": {
            "text/plain": [
              "<Figure size 800x800 with 1 Axes>"
            ],
            "image/png": "[encoded data removed]"
          },
          "metadata": {}
        }
      ]
    },
    {
      "cell_type": "markdown",
      "source": [
        "**Build a machine learning regression model to predict the temperature of a city based on historical weather data.**"
      ],
      "metadata": {
        "id": "GB0XCm1NS1Ts"
      }
    },
    {
      "cell_type": "code",
      "source": [
        "import sklearn\n",
        "print(sklearn.__version__)\n"
      ],
      "metadata": {
        "colab": {
          "base_uri": "https://localhost:8080/"
        },
        "id": "5fH1Xlu0Q7C9",
        "outputId": "4466eee3-089d-4cb2-fdb9-3bf9a71072a6"
      },
      "execution_count": 3,
      "outputs": [
        {
          "output_type": "stream",
          "name": "stdout",
          "text": [
            "1.6.1\n"
          ]
        }
      ]
    },
    {
      "cell_type": "code",
      "source": [
        "import pandas as pd\n",
        "import numpy as np\n",
        "import matplotlib.pyplot as plt\n",
        "\n",
        "import requests\n",
        "\n",
        "# API key\n",
        "api_key = \"07f6f276fcb8caf7495f096cfe7276c0\""
      ],
      "metadata": {
        "id": "1u-RNe7fS-Xl"
      },
      "execution_count": 4,
      "outputs": []
    },
    {
      "cell_type": "code",
      "source": [
        "import requests\n",
        "\n",
        "api_key = \"07f6f276fcb8caf7495f096cfe7276c0\"\n",
        "city = \"Cape Town\"\n",
        "url = f\"http://api.openweathermap.org/data/2.5/forecast?q=Cape Town&appid=07f6f276fcb8caf7495f096cfe7276c0\"\n",
        "\n",
        "response = requests.get(url)\n",
        "data = response.json()"
      ],
      "metadata": {
        "id": "JYSVvQKDTWYB"
      },
      "execution_count": 5,
      "outputs": []
    },
    {
      "cell_type": "markdown",
      "source": [
        "**The structure of the Dataset **"
      ],
      "metadata": {
        "id": "rbAsEB5tXDBn"
      }
    },
    {
      "cell_type": "code",
      "source": [
        "print(data.keys())"
      ],
      "metadata": {
        "id": "CXLj79_XWJ5E",
        "outputId": "951c3941-bcfd-4875-ed1e-6eb5d0e45278",
        "colab": {
          "base_uri": "https://localhost:8080/"
        }
      },
      "execution_count": 6,
      "outputs": [
        {
          "output_type": "stream",
          "name": "stdout",
          "text": [
            "dict_keys(['cod', 'message', 'cnt', 'list', 'city'])\n"
          ]
        }
      ]
    },
    {
      "cell_type": "code",
      "source": [
        "first_forecast = data['list'][0]\n",
        "print(first_forecast.keys())"
      ],
      "metadata": {
        "id": "ihGU1sshXeiF",
        "outputId": "d722663c-e052-4710-8549-44e1d08f1053",
        "colab": {
          "base_uri": "https://localhost:8080/"
        }
      },
      "execution_count": 7,
      "outputs": [
        {
          "output_type": "stream",
          "name": "stdout",
          "text": [
            "dict_keys(['dt', 'main', 'weather', 'clouds', 'wind', 'visibility', 'pop', 'sys', 'dt_txt'])\n"
          ]
        }
      ]
    },
    {
      "cell_type": "code",
      "source": [
        "second_forecast = data['main'][0]\n",
        "print(second_forecast.keys())"
      ],
      "metadata": {
        "id": "KhWGL9qXXqjB",
        "outputId": "c3c14977-fc63-448a-ac3e-73db21cdbe03",
        "colab": {
          "base_uri": "https://localhost:8080/",
          "height": 158
        }
      },
      "execution_count": 8,
      "outputs": [
        {
          "output_type": "error",
          "ename": "KeyError",
          "evalue": "'main'",
          "traceback": [
            "\u001b[0;31m---------------------------------------------------------------------------\u001b[0m",
            "\u001b[0;31mKeyError\u001b[0m                                  Traceback (most recent call last)",
            "\u001b[0;32m<ipython-input-8-ae8990e074dd>\u001b[0m in \u001b[0;36m<cell line: 0>\u001b[0;34m()\u001b[0m\n\u001b[0;32m----> 1\u001b[0;31m \u001b[0msecond_forecast\u001b[0m \u001b[0;34m=\u001b[0m \u001b[0mdata\u001b[0m\u001b[0;34m[\u001b[0m\u001b[0;34m'main'\u001b[0m\u001b[0;34m]\u001b[0m\u001b[0;34m[\u001b[0m\u001b[0;36m0\u001b[0m\u001b[0;34m]\u001b[0m\u001b[0;34m\u001b[0m\u001b[0;34m\u001b[0m\u001b[0m\n\u001b[0m\u001b[1;32m      2\u001b[0m \u001b[0mprint\u001b[0m\u001b[0;34m(\u001b[0m\u001b[0msecond_forecast\u001b[0m\u001b[0;34m.\u001b[0m\u001b[0mkeys\u001b[0m\u001b[0;34m(\u001b[0m\u001b[0;34m)\u001b[0m\u001b[0;34m)\u001b[0m\u001b[0;34m\u001b[0m\u001b[0;34m\u001b[0m\u001b[0m\n",
            "\u001b[0;31mKeyError\u001b[0m: 'main'"
          ]
        }
      ]
    },
    {
      "cell_type": "code",
      "source": [
        "for forecast in data['list'][:5]:  # Look at the first 5 forecasts\n",
        "    timestamp = forecast['dt_txt']  # Human-readable timestamp\n",
        "    temperature = forecast['main']['temp']  # Temperature in Kelvin\n",
        "    weather_description = forecast['weather'][0]['description']  # Weather description\n",
        "    print(f\"Time: {timestamp}, Temp: {temperature}K, Condition: {weather_description}\")\n"
      ],
      "metadata": {
        "id": "BI8O3xY6YJJn"
      },
      "execution_count": null,
      "outputs": []
    },
    {
      "cell_type": "markdown",
      "source": [
        "Using the 'city' Key\n",
        "The 'city' key provides information about the city the forecast is for. You can use it to extract details like the city name, coordinates, and country."
      ],
      "metadata": {
        "id": "VEcDOh3PYe2O"
      }
    },
    {
      "cell_type": "code",
      "source": [
        "city_info = data['city']\n",
        "city_name = city_info['name']\n",
        "country = city_info['country']\n",
        "coordinates = city_info['coord']\n",
        "\n",
        "print(f\"City: {city_name}, Country: {country}, Coordinates: {coordinates}\")\n"
      ],
      "metadata": {
        "id": "ceAPVEdeYmHF"
      },
      "execution_count": null,
      "outputs": []
    },
    {
      "cell_type": "markdown",
      "source": [
        "**We'll loop through the 'list' key and extract timestamps, temperatures, and weather conditions.**"
      ],
      "metadata": {
        "id": "jPlzvJkyZaaM"
      }
    },
    {
      "cell_type": "code",
      "source": [
        "# Extract weather forecast details into a structured list\n",
        "forecast_data = []\n",
        "\n",
        "for forecast in data['list']:\n",
        "    timestamp = forecast['dt_txt']  # Human-readable timestamp\n",
        "    temperature = forecast['main']['temp'] - 273.15  # Convert Kelvin to Celsius\n",
        "    weather_description = forecast['weather'][0]['description']  # Weather description\n",
        "    wind_speed = forecast['wind']['speed']  # Wind speed\n",
        "    forecast_data.append([timestamp, temperature, weather_description, wind_speed])\n",
        "\n",
        "# Convert to a DataFrame\n",
        "df = pd.DataFrame(forecast_data, columns=['Timestamp', 'Temperature (C)', 'Condition', 'Wind Speed (m/s)'])\n"
      ],
      "metadata": {
        "id": "T0Xp6Dk8Y6nv"
      },
      "execution_count": null,
      "outputs": []
    },
    {
      "cell_type": "code",
      "source": [
        "print(df.head(20))"
      ],
      "metadata": {
        "id": "LBuqUz5gZes-"
      },
      "execution_count": null,
      "outputs": []
    },
    {
      "cell_type": "markdown",
      "source": [
        "Visualize the Data\n",
        "Plot Temperature Over Time"
      ],
      "metadata": {
        "id": "42InemFlaFpZ"
      }
    },
    {
      "cell_type": "code",
      "source": [
        "plt.figure(figsize=(10, 6))\n",
        "plt.plot(df['Timestamp'], df['Temperature (C)'], marker='o', label='Temperature (C)')\n",
        "plt.xticks(rotation=45)\n",
        "plt.xlabel('Timestamp')\n",
        "plt.ylabel('Temperature (C)')\n",
        "plt.title('Temperature Forecast Over Time')\n",
        "plt.legend()\n",
        "plt.grid()\n",
        "plt.show()\n"
      ],
      "metadata": {
        "id": "AvKvbESdaUhr"
      },
      "execution_count": null,
      "outputs": []
    },
    {
      "cell_type": "markdown",
      "source": [
        "**Wind Speed Over Time**"
      ],
      "metadata": {
        "id": "3s8-bN27a07a"
      }
    },
    {
      "cell_type": "code",
      "source": [
        "plt.figure(figsize=(10, 6))\n",
        "plt.plot(df['Timestamp'], df['Wind Speed (m/s)'], marker='s', color='orange', label='Wind Speed (m/s)')\n",
        "plt.xticks(rotation=45)\n",
        "plt.xlabel('Timestamp')\n",
        "plt.ylabel('Wind Speed (m/s)')\n",
        "plt.title('Wind Speed Forecast Over Time')\n",
        "plt.legend()\n",
        "plt.grid()\n",
        "plt.show()\n"
      ],
      "metadata": {
        "id": "3EiXMEwpa3KY"
      },
      "execution_count": null,
      "outputs": []
    },
    {
      "cell_type": "markdown",
      "source": [
        "**Humidity over time **"
      ],
      "metadata": {
        "id": "hM49f-mWbhDc"
      }
    },
    {
      "cell_type": "code",
      "source": [
        "# Extract weather forecast details into a structured list\n",
        "forecast_data = []\n",
        "\n",
        "for forecast in data['list']:\n",
        "    timestamp = forecast['dt_txt']  # Human-readable timestamp\n",
        "    temperature = forecast['main']['temp'] - 273.15  # Convert Kelvin to Celsius\n",
        "    humidity = forecast['main']['humidity']  # Humidity percentage\n",
        "    weather_description = forecast['weather'][0]['description']  # Weather description\n",
        "    wind_speed = forecast['wind']['speed']  # Wind speed\n",
        "    forecast_data.append([timestamp, temperature, humidity, weather_description, wind_speed])\n",
        "\n",
        "# Convert to a DataFrame\n",
        "df = pd.DataFrame(forecast_data, columns=['Timestamp', 'Temperature (C)', 'Humidity (%)', 'Condition', 'Wind Speed (m/s)'])\n"
      ],
      "metadata": {
        "id": "fGKPsTScbl_r"
      },
      "execution_count": null,
      "outputs": []
    },
    {
      "cell_type": "code",
      "source": [
        "import matplotlib.pyplot as plt\n",
        "\n",
        "# Plot Humidity\n",
        "plt.figure(figsize=(10, 6))\n",
        "plt.plot(df['Timestamp'], df['Humidity (%)'], marker='x', color='green', label='Humidity (%)')\n",
        "plt.xticks(rotation=45)\n",
        "plt.xlabel('Timestamp')\n",
        "plt.ylabel('Humidity (%)')\n",
        "plt.title('Humidity Forecast Over Time')\n",
        "plt.legend()\n",
        "plt.grid()\n",
        "plt.show()\n"
      ],
      "metadata": {
        "id": "Y8uyAY73bsL6"
      },
      "execution_count": null,
      "outputs": []
    },
    {
      "cell_type": "markdown",
      "source": [
        "**Add Multiple Cities**: Predicting outcomes using Machine Learning"
      ],
      "metadata": {
        "id": "TmAGbuMQcIon"
      }
    },
    {
      "cell_type": "code",
      "source": [
        "cities = [\"Cape Town\", \"Johannesburg\", \"Durban\", \"Pretoria\", \"Bloemfontein\"]\n",
        "forecast_list = []\n",
        "\n",
        "for city in cities:\n",
        "    url = f\"http://api.openweathermap.org/data/2.5/forecast?q={city}&appid={api_key}\"\n",
        "    response = requests.get(url)\n",
        "    data = response.json()\n",
        "\n",
        "    for forecast in data['list']:\n",
        "        timestamp = forecast['dt_txt']\n",
        "        temperature = forecast['main']['temp'] - 273.15\n",
        "        humidity = forecast['main']['humidity']\n",
        "        condition = forecast['weather'][0]['description']\n",
        "        wind_speed = forecast['wind']['speed']\n",
        "        forecast_list.append([city, timestamp, temperature, humidity, condition, wind_speed])\n",
        "\n",
        "# Convert to a DataFrame\n",
        "df_multi = pd.DataFrame(forecast_list, columns=['City', 'Timestamp', 'Temperature (C)', 'Humidity (%)', 'Condition', 'Wind Speed (m/s)'])\n",
        "print(df_multi.head(100))\n"
      ],
      "metadata": {
        "id": "dS61LcAccLeN"
      },
      "execution_count": null,
      "outputs": []
    },
    {
      "cell_type": "markdown",
      "source": [
        "**Average temperature, humidity, or wind speed per city.**"
      ],
      "metadata": {
        "id": "wu6SvLNBdFFd"
      }
    },
    {
      "cell_type": "code",
      "source": [
        "# Average temperature by city\n",
        "avg_temp = df_multi.groupby('City')['Temperature (C)'].mean()\n",
        "print(\"Average Temperature per City:\")\n",
        "print(avg_temp)\n",
        "\n",
        "# Grouping for detailed statistics\n",
        "city_stats = df_multi.groupby('City').agg({\n",
        "    'Temperature (C)': ['mean', 'max', 'min'],\n",
        "    'Humidity (%)': ['mean', 'max', 'min'],\n",
        "    'Wind Speed (m/s)': ['mean', 'max', 'min']\n",
        "})\n",
        "print(\"\\nCity Weather Statistics:\")\n",
        "print(city_stats)\n"
      ],
      "metadata": {
        "id": "nbqwQLIPdHxg"
      },
      "execution_count": null,
      "outputs": []
    },
    {
      "cell_type": "markdown",
      "source": [
        "**Machine Learning**: Predict Future Temperatures"
      ],
      "metadata": {
        "id": "tRb_kjshdoaU"
      }
    },
    {
      "cell_type": "code",
      "source": [
        "from sklearn.model_selection import train_test_split\n",
        "from sklearn.linear_model import LinearRegression\n",
        "from sklearn.metrics import mean_squared_error\n",
        "\n",
        "# Feature selection (use numeric columns)\n",
        "features = df_multi[['Temperature (C)', 'Humidity (%)', 'Wind Speed (m/s)']].values\n",
        "target = df_multi['Temperature (C)'].values\n",
        "\n",
        "# Split into training and testing datasets\n",
        "X_train, X_test, y_train, y_test = train_test_split(features, target, test_size=0.2, random_state=42)\n"
      ],
      "metadata": {
        "id": "uLkEi17-d_M1"
      },
      "execution_count": null,
      "outputs": []
    },
    {
      "cell_type": "markdown",
      "source": [
        "**Train a Simple Linear Regression Model**"
      ],
      "metadata": {
        "id": "WUOlrkeAeOyP"
      }
    },
    {
      "cell_type": "code",
      "source": [
        "# Train the model\n",
        "model = LinearRegression()\n",
        "model.fit(X_train, y_train)\n",
        "\n",
        "# Predict on test data\n",
        "predictions = model.predict(X_test)\n",
        "\n",
        "# Evaluate the model\n",
        "mse = mean_squared_error(y_test, predictions)\n",
        "print(f\"Mean Squared Error: {mse}\")\n",
        "\n",
        "# Example Prediction\n",
        "print(\"Predicted:\", predictions[:5])\n",
        "print(\"Actual:\", y_test[:5])\n"
      ],
      "metadata": {
        "id": "rj8mS-CdeW-W"
      },
      "execution_count": null,
      "outputs": []
    },
    {
      "cell_type": "code",
      "source": [
        "plt.figure(figsize=(10, 6))\n",
        "plt.scatter(range(len(y_test)), y_test, color='blue', label='Actual Temperatures')\n",
        "plt.scatter(range(len(predictions)), predictions, color='red', alpha=0.6, label='Predicted Temperatures')\n",
        "plt.xlabel('Sample Index')\n",
        "plt.ylabel('Temperature (C)')\n",
        "plt.title('Actual vs Predicted Temperatures')\n",
        "plt.legend()\n",
        "plt.show()\n"
      ],
      "metadata": {
        "id": "_1EH6UhAejJO"
      },
      "execution_count": null,
      "outputs": []
    },
    {
      "cell_type": "code",
      "source": [
        "cities = [\"Cape Town\", \"Johannesburg\", \"Durban\", \"Pretoria\", \"Bloemfontein\"]\n",
        "\n",
        "all_data = []\n",
        "\n",
        "for city in cities:\n",
        "    url = f\"http://api.openweathermap.org/data/2.5/forecast?q={city}&appid={api_key}\"\n",
        "    response = requests.get(url)\n",
        "    data = response.json()\n",
        "\n",
        "    for entry in data['list']:\n",
        "        weather_info = {\n",
        "            'City': city,\n",
        "            'Date': entry['dt_txt'],\n",
        "            'Temperature (C)': entry['main']['temp'] - 273.15,  # Convert from Kelvin to Celsius\n",
        "            'Humidity (%)': entry['main']['humidity'],\n",
        "            'Wind Speed (m/s)': entry['wind']['speed'],\n",
        "        }\n",
        "        all_data.append(weather_info)\n",
        "\n",
        "# Combine all data into a single DataFrame\n",
        "multi_city_df = pd.DataFrame(all_data)\n",
        "\n",
        "# Display the first few rows\n",
        "print(multi_city_df.head(100))\n"
      ],
      "metadata": {
        "id": "ReHDcgbUi4qC"
      },
      "execution_count": null,
      "outputs": []
    },
    {
      "cell_type": "markdown",
      "source": [
        "**Analyzing trends, averages, and correlations for weather patterns across cities.**"
      ],
      "metadata": {
        "id": "fPcU_Vv7jQ47"
      }
    },
    {
      "cell_type": "code",
      "source": [
        "# Group data by city\n",
        "city_stats = multi_city_df.groupby('City')[['Temperature (C)', 'Humidity (%)', 'Wind Speed (m/s)']].mean()\n",
        "print(city_stats)\n",
        "\n",
        "# Plotting\n",
        "multi_city_df.groupby('City')['Temperature (C)'].mean().plot(kind='bar', color='orange', title='Average Temperature by City')\n",
        "plt.ylabel('Temperature (C)')\n",
        "plt.show()\n",
        "\n",
        "multi_city_df.groupby('City')['Humidity (%)'].mean().plot(kind='bar', color='blue', title='Average Humidity by City')\n",
        "plt.ylabel('Humidity (%)')\n",
        "plt.show()\n"
      ],
      "metadata": {
        "id": "Hp_VG_W-jGQP"
      },
      "execution_count": null,
      "outputs": []
    },
    {
      "cell_type": "code",
      "source": [
        "from sklearn.ensemble import RandomForestRegressor\n",
        "\n",
        "# Include the 'City' as a categorical feature\n",
        "multi_city_df['City'] = multi_city_df['City'].astype('category').cat.codes  # Encode city names\n",
        "\n",
        "X = multi_city_df[['Humidity (%)', 'Wind Speed (m/s)', 'City']]  # Features\n",
        "y = multi_city_df['Temperature (C)']  # Target\n",
        "\n",
        "X_train, X_test, y_train, y_test = train_test_split(X, y, test_size=0.2, random_state=42)\n",
        "\n",
        "# Train a Random Forest model\n",
        "rf_model = RandomForestRegressor(n_estimators=100, random_state=42)\n",
        "rf_model.fit(X_train, y_train)\n",
        "\n",
        "# Predict and evaluate\n",
        "y_pred = rf_model.predict(X_test)\n",
        "mse = mean_squared_error(y_test, y_pred)\n",
        "print(f\"Random Forest Mean Squared Error: {mse}\")\n"
      ],
      "metadata": {
        "id": "OixxFVgvjdIr"
      },
      "execution_count": null,
      "outputs": []
    },
    {
      "cell_type": "markdown",
      "source": [
        "**Dashboard for Visualization**"
      ],
      "metadata": {
        "id": "WyKXQ4TmjqYr"
      }
    },
    {
      "cell_type": "code",
      "source": [
        "pip install streamlit"
      ],
      "metadata": {
        "id": "8RSjS2J3j4RB"
      },
      "execution_count": null,
      "outputs": []
    },
    {
      "cell_type": "code",
      "source": [
        "import streamlit as st\n",
        "\n",
        "st.title(\"Weather Prediction Dashboard\")\n",
        "\n",
        "# Select a city\n",
        "selected_city = st.selectbox(\"Select a City\", cities)\n",
        "\n",
        "# Filter data for the selected city\n",
        "city_data = multi_city_df[multi_city_df['City'] == selected_city]\n",
        "\n",
        "# Plot temperature trends\n",
        "st.line_chart(city_data.set_index('Date')['Temperature (C)'])\n",
        "\n",
        "# Display summary stats\n",
        "st.write(city_data.describe())\n"
      ],
      "metadata": {
        "id": "MLCYWPJ7jtMY"
      },
      "execution_count": null,
      "outputs": []
    },
    {
      "cell_type": "code",
      "source": [
        "!pip install streamlit pyngrok"
      ],
      "metadata": {
        "id": "cFXLDG-ikjlD"
      },
      "execution_count": null,
      "outputs": []
    },
    {
      "cell_type": "code",
      "source": [
        "import streamlit as st\n",
        "\n",
        "st.title(\"Weather Prediction Dashboard\")\n",
        "\n",
        "# Select a city\n",
        "selected_city = st.selectbox(\"Select a City\", cities)\n",
        "\n",
        "# Filter data for the selected city\n",
        "city_data = multi_city_df[multi_city_df['City'] == selected_city]\n",
        "\n",
        "# Plot temperature trends\n",
        "st.line_chart(city_data.set_index('Date')['Temperature (C)'])\n",
        "\n",
        "# Display summary stats\n",
        "st.write(city_data.describe())\n"
      ],
      "metadata": {
        "id": "jQsFp0MNkuLG"
      },
      "execution_count": null,
      "outputs": []
    }
  ]
}